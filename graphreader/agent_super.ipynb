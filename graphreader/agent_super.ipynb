{
 "cells": [
  {
   "cell_type": "code",
   "execution_count": 35,
   "metadata": {},
   "outputs": [],
   "source": [
    "import os\n",
    "\n",
    "os.environ[\"OPENAI_API_KEY\"] = \"key\"\n",
    "\n",
    "os.environ[\"LANGCHAIN_TRACING_V2\"] = \"true\"\n",
    "os.environ[\"LANGCHAIN_API_KEY\"] = \"key\"\n",
    "os.environ[\"LANGCHAIN_PROJECT\"] = \"Multi-agent Official Supervisor\"\n",
    "os.environ[\"TAVILY_API_KEY\"] = \"key\""
   ]
  },
  {
   "cell_type": "code",
   "execution_count": 44,
   "metadata": {},
   "outputs": [],
   "source": [
    "from typing import Annotated\n",
    "\n",
    "from langchain_community.tools.tavily_search import TavilySearchResults\n",
    "# from langchain_experimental.tools import PythonREPLTool\n",
    "\n",
    "tavily_tool = TavilySearchResults(max_results=5)\n",
    "\n",
    "# This executes code locally, which can be unsafe\n",
    "# python_repl_tool = PythonREPLTool()\n",
    "from langchain_core.tools import Tool\n",
    "from langchain_experimental.utilities import PythonREPL\n",
    "from langchain.tools import BaseTool, StructuredTool, Tool, tool\n",
    "\n",
    "@tool(\"python_repl\", return_direct=False)\n",
    "def python_repl(query: str) -> str:\n",
    "    \"\"\"A Python shell. Use this to execute python commands. Input should be a valid python command. If you want to see the output of a value, you should print it out with `print(...)`.\"\"\"\n",
    "    python_repl = PythonREPL()\n",
    "    return python_repl.run(f\"print({query})\")\n",
    "\n",
    "# You can create the tool to pass to an agent"
   ]
  },
  {
   "cell_type": "code",
   "execution_count": 39,
   "metadata": {},
   "outputs": [],
   "source": [
    "from langchain.agents import AgentExecutor, create_openai_tools_agent\n",
    "from langchain_core.messages import BaseMessage, HumanMessage\n",
    "from langchain_openai import ChatOpenAI\n",
    "\n",
    "\n",
    "def create_agent(llm: ChatOpenAI, tools: list, system_prompt: str):\n",
    "    # Each worker node will be given a name and some tools.\n",
    "    prompt = ChatPromptTemplate.from_messages(\n",
    "        [\n",
    "            (\n",
    "                \"system\",\n",
    "                system_prompt,\n",
    "            ),\n",
    "            MessagesPlaceholder(variable_name=\"messages\"),\n",
    "            MessagesPlaceholder(variable_name=\"agent_scratchpad\"),\n",
    "        ]\n",
    "    )\n",
    "    agent = create_openai_tools_agent(llm, tools, prompt)\n",
    "    executor = AgentExecutor(agent=agent, tools=tools)\n",
    "    return executor"
   ]
  },
  {
   "cell_type": "code",
   "execution_count": 40,
   "metadata": {},
   "outputs": [],
   "source": [
    "def agent_node(state, agent, name):\n",
    "    result = agent.invoke(state)\n",
    "    return {\"messages\": [HumanMessage(content=result[\"output\"], name=name)]}"
   ]
  },
  {
   "cell_type": "code",
   "execution_count": 41,
   "metadata": {},
   "outputs": [],
   "source": [
    "from langchain_core.output_parsers.openai_functions import JsonOutputFunctionsParser\n",
    "from langchain_core.prompts import ChatPromptTemplate, MessagesPlaceholder\n",
    "\n",
    "members = [\"Researcher\", \"Coder\"]\n",
    "system_prompt = (\n",
    "    \"You are a supervisor tasked with managing a conversation between the\"\n",
    "    \" following workers:  {members}. Given the following user request,\"\n",
    "    \" respond with the worker to act next. Each worker will perform a\"\n",
    "    \" task and respond with their results and status. When finished,\"\n",
    "    \" respond with FINISH.\"\n",
    ")\n",
    "# Our team supervisor is an LLM node. It just picks the next agent to process\n",
    "# and decides when the work is completed\n",
    "options = [\"FINISH\"] + members\n",
    "# Using openai function calling can make output parsing easier for us\n",
    "function_def = {\n",
    "    \"name\": \"route\",\n",
    "    \"description\": \"Select the next role.\",\n",
    "    \"parameters\": {\n",
    "        \"title\": \"routeSchema\",\n",
    "        \"type\": \"object\",\n",
    "        \"properties\": {\n",
    "            \"next\": {\n",
    "                \"title\": \"Next\",\n",
    "                \"anyOf\": [\n",
    "                    {\"enum\": options},\n",
    "                ],\n",
    "            }\n",
    "        },\n",
    "        \"required\": [\"next\"],\n",
    "    },\n",
    "}\n",
    "prompt = ChatPromptTemplate.from_messages(\n",
    "    [\n",
    "        (\"system\", system_prompt),\n",
    "        MessagesPlaceholder(variable_name=\"messages\"),\n",
    "        (\n",
    "            \"system\",\n",
    "            \"Given the conversation above, who should act next?\"\n",
    "            \" Or should we FINISH? Select one of: {options}\",\n",
    "        ),\n",
    "    ]\n",
    ").partial(options=str(options), members=\", \".join(members))\n",
    "\n",
    "llm = ChatOpenAI(model=\"gpt-4o-mini\", temperature=0, streaming=True)\n",
    "\n",
    "supervisor_chain = (\n",
    "    prompt\n",
    "    | llm.bind_functions(functions=[function_def], function_call=\"route\")\n",
    "    | JsonOutputFunctionsParser()\n",
    ")"
   ]
  },
  {
   "cell_type": "code",
   "execution_count": 45,
   "metadata": {},
   "outputs": [],
   "source": [
    "import functools\n",
    "import operator\n",
    "from typing import Sequence, TypedDict\n",
    "\n",
    "from langchain_core.prompts import ChatPromptTemplate, MessagesPlaceholder\n",
    "\n",
    "from langgraph.graph import END, StateGraph, START\n",
    "\n",
    "\n",
    "# The agent state is the input to each node in the graph\n",
    "class AgentState(TypedDict):\n",
    "    # The annotation tells the graph that new messages will always\n",
    "    # be added to the current states\n",
    "    messages: Annotated[Sequence[BaseMessage], operator.add]\n",
    "    # The 'next' field indicates where to route to next\n",
    "    next: str\n",
    "\n",
    "\n",
    "research_agent = create_agent(llm, [tavily_tool], \"You are a web researcher.\")\n",
    "research_node = functools.partial(agent_node, agent=research_agent, name=\"Researcher\")\n",
    "\n",
    "# NOTE: THIS PERFORMS ARBITRARY CODE EXECUTION. PROCEED WITH CAUTION\n",
    "code_agent = create_agent(\n",
    "    llm,\n",
    "    [python_repl],\n",
    "    \"You may generate safe python code to analyze data and generate charts using matplotlib.\",\n",
    ")\n",
    "code_node = functools.partial(agent_node, agent=code_agent, name=\"Coder\")\n",
    "\n",
    "workflow = StateGraph(AgentState)\n",
    "workflow.add_node(\"Researcher\", research_node)\n",
    "workflow.add_node(\"Coder\", code_node)\n",
    "workflow.add_node(\"supervisor\", supervisor_chain)"
   ]
  },
  {
   "cell_type": "code",
   "execution_count": 46,
   "metadata": {},
   "outputs": [],
   "source": [
    "for member in members:\n",
    "    # We want our workers to ALWAYS \"report back\" to the supervisor when done\n",
    "    workflow.add_edge(member, \"supervisor\")\n",
    "# The supervisor populates the \"next\" field in the graph state\n",
    "# which routes to a node or finishes\n",
    "conditional_map = {k: k for k in members}\n",
    "conditional_map[\"FINISH\"] = END\n",
    "workflow.add_conditional_edges(\"supervisor\", lambda x: x[\"next\"], conditional_map)\n",
    "# Finally, add entrypoint\n",
    "workflow.add_edge(START, \"supervisor\")\n",
    "\n",
    "graph = workflow.compile()"
   ]
  },
  {
   "cell_type": "code",
   "execution_count": 47,
   "metadata": {},
   "outputs": [
    {
     "name": "stdout",
     "output_type": "stream",
     "text": [
      "{'supervisor': {'next': 'Coder'}}\n",
      "----\n",
      "{'Coder': {'messages': [HumanMessage(content='The code `print(\\'Hello, World!\\')` was executed, and it printed \"Hello, World!\" to the terminal.', name='Coder')]}}\n",
      "----\n",
      "{'supervisor': {'next': 'FINISH'}}\n",
      "----\n"
     ]
    }
   ],
   "source": [
    "for s in graph.stream(\n",
    "    {\n",
    "        \"messages\": [\n",
    "            HumanMessage(content=\"Code hello world and print it to the terminal\")\n",
    "        ]\n",
    "    }\n",
    "):\n",
    "    if \"__end__\" not in s:\n",
    "        print(s)\n",
    "        print(\"----\")"
   ]
  },
  {
   "cell_type": "code",
   "execution_count": 48,
   "metadata": {},
   "outputs": [
    {
     "name": "stdout",
     "output_type": "stream",
     "text": [
      "{'supervisor': {'next': 'Researcher'}}\n",
      "----\n",
      "{'Researcher': {'messages': [HumanMessage(content='### Research Report on Pikas\\n\\n**Introduction**\\nPikas, small herbivorous mammals belonging to the family Ochotonidae, are typically found in rocky slopes known as talus across various mountain ranges in the western United States. They are closely related to rabbits and are known for their distinctive vocalizations and behaviors.\\n\\n**Habitat and Distribution**\\nPikas thrive in cold, mountainous regions where they can find suitable talus habitats. However, recent studies indicate that their populations are declining in several areas due to climate change. The U.S. Geological Survey has reported that pikas are disappearing from certain locations in the western U.S., with significant variability in their presence across different regions. For instance, in the Great Basin and southern Utah, temperature and precipitation are strong predictors of pika presence, while in northeastern California, the availability of habitable talus is more critical for their persistence.\\n\\n**Impact of Climate Change**\\nAs climate change leads to declining snowpack and increasing temperatures, pika habitats are becoming more isolated. Research suggests that occupancy rates of remaining habitats could drop to less than 50%. This is particularly concerning in low-elevation parks, such as Craters of the Moon National Monument and Preserve in Idaho, which are warmer and drier than higher elevation areas.\\n\\n**Research Findings**\\n1. **Population Declines**: A study compiled over 2,387 records of extant pika sites and noted 89 records of extirpated sites, indicating a concerning trend in population declines across the Great Basin.\\n2. **Thermal Adaptation**: Pikas have shown some ability to adapt to warmer conditions by moving during cooler nights, which allows them to overcome thermal barriers and recolonize previously extirpated sites.\\n3. **Habitat Suitability**: Research has highlighted the importance of talus habitats, even in warmer regions, where the interiors can remain cool enough to support pika populations.\\n\\n**Conclusion**\\nThe future of pikas is uncertain as they face the dual challenges of habitat loss and climate change. Continued research is essential to understand their distribution, climatic relationships, and conservation needs. Protecting their habitats and monitoring population trends will be crucial for the survival of these unique mountain-dwelling mammals.\\n\\n**References**\\n- U.S. Geological Survey. (2023). Pikas disappearing from parts of the West due to climate change. [USGS News Release](https://www.usgs.gov/news/national-news-release/pikas-disappearing-parts-west-due-climate-change).\\n- National Park Service. (2023). Pikas in Peril. [NPS Report](https://www.nps.gov/orgs/1778/pikas-in-peril.htm).\\n- Ecology & Evolution Journal. (2023). [Research on Pikas](https://onlinelibrary.wiley.com/doi/10.1002/ece3.9295).\\n- USDA Forest Service. (2023). [Pika Habitat Research](https://www.fs.usda.gov/research/treesearch/64976).\\n- Taylor & Francis Online. (2023). [Pika Distribution and Climate Relationships](https://www.tandfonline.com/doi/full/10.1080/15230430.2018.1436296).', name='Researcher')]}}\n",
      "----\n",
      "{'supervisor': {'next': 'Coder'}}\n",
      "----\n",
      "{'Coder': {'messages': [HumanMessage(content='### Research Report on Pikas\\n\\n**Introduction**  \\nPikas, small herbivorous mammals belonging to the family Ochotonidae, are typically found in rocky slopes known as talus across various mountain ranges in the western United States. They are closely related to rabbits and are known for their distinctive vocalizations and behaviors.\\n\\n**Habitat and Distribution**  \\nPikas thrive in cold, mountainous regions where they can find suitable talus habitats. However, recent studies indicate that their populations are declining in several areas due to climate change. The U.S. Geological Survey has reported that pikas are disappearing from certain locations in the western U.S., with significant variability in their presence across different regions. For instance, in the Great Basin and southern Utah, temperature and precipitation are strong predictors of pika presence, while in northeastern California, the availability of habitable talus is more critical for their persistence.\\n\\n**Impact of Climate Change**  \\nAs climate change leads to declining snowpack and increasing temperatures, pika habitats are becoming more isolated. Research suggests that occupancy rates of remaining habitats could drop to less than 50%. This is particularly concerning in low-elevation parks, such as Craters of the Moon National Monument and Preserve in Idaho, which are warmer and drier than higher elevation areas.\\n\\n**Research Findings**  \\n1. **Population Declines**: A study compiled over 2,387 records of extant pika sites and noted 89 records of extirpated sites, indicating a concerning trend in population declines across the Great Basin.\\n2. **Thermal Adaptation**: Pikas have shown some ability to adapt to warmer conditions by moving during cooler nights, which allows them to overcome thermal barriers and recolonize previously extirpated sites.\\n3. **Habitat Suitability**: Research has highlighted the importance of talus habitats, even in warmer regions, where the interiors can remain cool enough to support pika populations.\\n\\n**Conclusion**  \\nThe future of pikas is uncertain as they face the dual challenges of habitat loss and climate change. Continued research is essential to understand their distribution, climatic relationships, and conservation needs. Protecting their habitats and monitoring population trends will be crucial for the survival of these unique mountain-dwelling mammals.\\n\\n**References**  \\n- U.S. Geological Survey. (2023). Pikas disappearing from parts of the West due to climate change. [USGS News Release](https://www.usgs.gov/news/national-news-release/pikas-disappearing-parts-west-due-climate-change).\\n- National Park Service. (2023). Pikas in Peril. [NPS Report](https://www.nps.gov/orgs/1778/pikas-in-peril.htm).\\n- Ecology & Evolution Journal. (2023). [Research on Pikas](https://onlinelibrary.wiley.com/doi/10.1002/ece3.9295).\\n- USDA Forest Service. (2023). [Pika Habitat Research](https://www.fs.usda.gov/research/treesearch/64976).\\n- Taylor & Francis Online. (2023). [Pika Distribution and Climate Relationships](https://www.tandfonline.com/doi/full/10.1080/15230430.2018.1436296).', name='Coder')]}}\n",
      "----\n",
      "{'supervisor': {'next': 'FINISH'}}\n",
      "----\n"
     ]
    }
   ],
   "source": [
    "for s in graph.stream(\n",
    "    {\"messages\": [HumanMessage(content=\"Write a brief research report on pikas.\")]},\n",
    "    {\"recursion_limit\": 100},\n",
    "):\n",
    "    if \"__end__\" not in s:\n",
    "        print(s)\n",
    "        print(\"----\")"
   ]
  }
 ],
 "metadata": {
  "kernelspec": {
   "display_name": "env",
   "language": "python",
   "name": "python3"
  },
  "language_info": {
   "codemirror_mode": {
    "name": "ipython",
    "version": 3
   },
   "file_extension": ".py",
   "mimetype": "text/x-python",
   "name": "python",
   "nbconvert_exporter": "python",
   "pygments_lexer": "ipython3",
   "version": "3.9.6"
  }
 },
 "nbformat": 4,
 "nbformat_minor": 2
}
